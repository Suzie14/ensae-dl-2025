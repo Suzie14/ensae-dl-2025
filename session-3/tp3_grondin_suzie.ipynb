{
 "cells": [
  {
   "cell_type": "code",
   "execution_count": 1,
   "metadata": {},
   "outputs": [],
   "source": [
    "# MNIST with an MLP, from scratch\n",
    "\n",
    "# - Step 1: build an MLP from scratch to solve MNIST. Question set: https://fleuret.org/dlc/materials/dlc-practical-3.pdf\n",
    "# - Step 2: debug your network with backprop ninja and a reference implementation using torch's .backward()\n",
    "# - Step 3: build the same MLP but will full pytorch code (nn.Linear, etc.)"
   ]
  },
  {
   "cell_type": "code",
   "execution_count": 1,
   "metadata": {},
   "outputs": [],
   "source": [
    "import math\n",
    "import torch\n",
    "from torch import nn\n",
    "import matplotlib.pyplot as plt\n",
    "%matplotlib inline"
   ]
  },
  {
   "cell_type": "code",
   "execution_count": 2,
   "metadata": {},
   "outputs": [],
   "source": [
    "from utils import load_data"
   ]
  },
  {
   "cell_type": "code",
   "execution_count": 3,
   "metadata": {},
   "outputs": [
    {
     "name": "stdout",
     "output_type": "stream",
     "text": [
      "* Using MNIST\n",
      "** Reduce the data-set (use --full for the full thing)\n",
      "** Use 1000 train and 1000 test samples\n"
     ]
    }
   ],
   "source": [
    "train_input, train_target, test_input, test_target = load_data(one_hot_labels = True, normalize = True)"
   ]
  },
  {
   "cell_type": "code",
   "execution_count": 4,
   "metadata": {},
   "outputs": [
    {
     "data": {
      "text/plain": [
       "<matplotlib.image.AxesImage at 0x11ca724a0>"
      ]
     },
     "execution_count": 4,
     "metadata": {},
     "output_type": "execute_result"
    },
    {
     "data": {
      "image/png": "[encoded data removed]",
      "text/plain": [
       "<Figure size 640x480 with 1 Axes>"
      ]
     },
     "metadata": {},
     "output_type": "display_data"
    }
   ],
   "source": [
    "plt.imshow(train_input[4].view((28,28)))"
   ]
  },
  {
   "cell_type": "code",
   "execution_count": 5,
   "metadata": {},
   "outputs": [],
   "source": [
    "def compute_accuracy (preds, targets):\n",
    "    \"\"\" Computes the accuracy between predictions and targets. Data is expected to be one-hot encoded. \"\"\"\n",
    "    _, idx1 = torch.max(preds, dim=1)\n",
    "    _, idx2 = torch.max(targets, dim=1)\n",
    "    d = idx1 == idx2\n",
    "    return d.int().float().mean().item()"
   ]
  },
  {
   "cell_type": "code",
   "execution_count": 6,
   "metadata": {},
   "outputs": [
    {
     "data": {
      "text/plain": [
       "0.75"
      ]
     },
     "execution_count": 6,
     "metadata": {},
     "output_type": "execute_result"
    }
   ],
   "source": [
    "# unit test\n",
    "# this cell should return 0.75\n",
    "preds = torch.zeros((4,7))\n",
    "preds[0,1] = 1\n",
    "preds[1,4] = 1\n",
    "preds[2,2] = 1\n",
    "preds[3,6] = 1\n",
    "targets = torch.zeros((4,7))\n",
    "targets[0,1] = 1\n",
    "targets[1,4] = 1\n",
    "targets[2,2] = 1\n",
    "targets[3,2] = 1\n",
    "compute_accuracy(preds, targets)"
   ]
  },
  {
   "cell_type": "code",
   "execution_count": 7,
   "metadata": {},
   "outputs": [],
   "source": [
    "def sigma(x):\n",
    "    return torch.tanh(x)\n",
    "\n",
    "def dsigma(x):\n",
    "    return 1 - torch.pow(torch.tanh(x), 2)"
   ]
  },
  {
   "cell_type": "code",
   "execution_count": 8,
   "metadata": {},
   "outputs": [],
   "source": [
    "def loss(v, t):\n",
    "    return torch.sum(torch.pow(t - v, 2))\n",
    "\n",
    "def dloss(v, t):\n",
    "    return 2 * (v - t)"
   ]
  },
  {
   "cell_type": "code",
   "execution_count": 9,
   "metadata": {},
   "outputs": [
    {
     "data": {
      "text/plain": [
       "tensor([[-1.3267,  0.5161,  0.4194, -1.4781,  3.9586, -3.8231],\n",
       "        [ 4.7482, -0.0533,  0.4343,  1.9430, -0.8863, -3.9754],\n",
       "        [ 3.1992,  2.3537,  0.6569, -0.9089,  1.9316, -4.6015]])"
      ]
     },
     "execution_count": 9,
     "metadata": {},
     "output_type": "execute_result"
    }
   ],
   "source": [
    "# sanity check\n",
    "v = torch.randn((3, 6), dtype=torch.float32)\n",
    "t = torch.randn((3, 6), dtype=torch.float32)\n",
    "l=loss(v,t)\n",
    "dloss(v,t)"
   ]
  },
  {
   "cell_type": "code",
   "execution_count": 10,
   "metadata": {},
   "outputs": [],
   "source": [
    "# multiply targets by 0.9 to be in the range of tanh\n",
    "train_target *= 0.9\n",
    "test_target *= 0.9"
   ]
  },
  {
   "cell_type": "markdown",
   "metadata": {},
   "source": [
    "### Step 1: Backprop ninja"
   ]
  },
  {
   "cell_type": "code",
   "execution_count": 11,
   "metadata": {},
   "outputs": [],
   "source": [
    "# utility function we will use later when comparing manual gradients to PyTorch gradients\n",
    "# DO NOT MODIFY IT\n",
    "#\n",
    "def cmp(s, dt, t):\n",
    "  ex = torch.all(dt == t.grad).item()\n",
    "  app = torch.allclose(dt, t.grad)\n",
    "  maxdiff = (dt - t.grad).abs().max().item()\n",
    "  print(f'{s:15s} | exact: {str(ex):5s} | approximate: {str(app):5s} | maxdiff: {maxdiff}')"
   ]
  },
  {
   "cell_type": "code",
   "execution_count": 12,
   "metadata": {},
   "outputs": [],
   "source": [
    "torch.manual_seed(1337)\n",
    "w1 = torch.randn((784, 50))\n",
    "b1 = torch.randn((50,))\n",
    "w2 = torch.randn((50, 10))\n",
    "b2 = torch.randn((10,))\n",
    "parameters = [w1, b1, w2, b2]\n",
    "for p in parameters:\n",
    "    p.requires_grad = True"
   ]
  },
  {
   "cell_type": "code",
   "execution_count": 13,
   "metadata": {},
   "outputs": [
    {
     "data": {
      "text/plain": [
       "(torch.Size([5, 10]), tensor(43.2825, grad_fn=<SumBackward0>))"
      ]
     },
     "execution_count": 13,
     "metadata": {},
     "output_type": "execute_result"
    }
   ],
   "source": [
    "x1 = train_input[:5]\n",
    "y1 = train_target[:5]\n",
    "z1 = x1 @ w1 + b1\n",
    "h1 = sigma(z1)\n",
    "z2 = h1 @ w2 + b2\n",
    "h2 = sigma(z2)\n",
    "l = loss(h2, y1)\n",
    "h2.shape, l"
   ]
  },
  {
   "cell_type": "code",
   "execution_count": 14,
   "metadata": {},
   "outputs": [
    {
     "name": "stdout",
     "output_type": "stream",
     "text": [
      "loss=43.282527923583984\n"
     ]
    }
   ],
   "source": [
    "# Force pytorch to retain grade for intermediate nodes and reset grad for parameters\n",
    "# DO NOT MODIFY THIS CODE\n",
    "#\n",
    "others = [h2,z2,h1,z1]\n",
    "for p in parameters:\n",
    "    p.grad = None\n",
    "for t in others:\n",
    "    t.retain_grad()\n",
    "l.backward()\n",
    "print(f'loss={l}')"
   ]
  },
  {
   "cell_type": "code",
   "execution_count": 15,
   "metadata": {},
   "outputs": [
    {
     "data": {
      "text/plain": [
       "torch.Size([10])"
      ]
     },
     "execution_count": 15,
     "metadata": {},
     "output_type": "execute_result"
    }
   ],
   "source": [
    "b2.grad.shape"
   ]
  },
  {
   "cell_type": "code",
   "execution_count": 16,
   "metadata": {},
   "outputs": [
    {
     "name": "stdout",
     "output_type": "stream",
     "text": [
      "h2              | exact: True  | approximate: True  | maxdiff: 0.0\n",
      "z2              | exact: False | approximate: True  | maxdiff: 1.6298145055770874e-09\n",
      "w2              | exact: True  | approximate: True  | maxdiff: 0.0\n",
      "b2              | exact: True  | approximate: True  | maxdiff: 0.0\n",
      "h1              | exact: False | approximate: True  | maxdiff: 1.4901161193847656e-08\n",
      "z1              | exact: False | approximate: True  | maxdiff: 4.423782229423523e-09\n",
      "w1              | exact: False | approximate: True  | maxdiff: 5.960464477539063e-08\n",
      "b1              | exact: True  | approximate: True  | maxdiff: 0.0\n"
     ]
    }
   ],
   "source": [
    "# here we compare our gradient to the reference gradient computed by pytorch\n",
    "dl = 1.0\n",
    "dh2 = dloss(h2, y1) * dl\n",
    "cmp('h2',dh2,h2)\n",
    "dz2 = dsigma(z2) * dh2\n",
    "cmp('z2',dz2, z2)\n",
    "dw2 = h1.T @ dz2\n",
    "cmp('w2',dw2, w2)\n",
    "db2 = dz2.sum(axis=0, keepdim=True)\n",
    "cmp('b2',db2, b2)\n",
    "dh1 = dz2 @ w2.T\n",
    "cmp('h1',dh1, h1)\n",
    "dz1 = dsigma(z1) * dh1\n",
    "cmp('z1', dz1, z1)\n",
    "dw1 = x1.T @ dz1\n",
    "cmp('w1', dw1, w1)\n",
    "db1 = dz1.sum(axis=0, keepdim=True)\n",
    "cmp('b1', db1, b1)\n"
   ]
  },
  {
   "cell_type": "code",
   "execution_count": 17,
   "metadata": {},
   "outputs": [],
   "source": [
    "lr = 0.1\n",
    "with torch.no_grad():\n",
    "    w1 += -lr * dw1\n",
    "    b1 += -lr * db1.squeeze()\n",
    "    w2 += -lr * dw2\n",
    "    b2 += -lr * db2.squeeze()"
   ]
  },
  {
   "cell_type": "code",
   "execution_count": 18,
   "metadata": {},
   "outputs": [
    {
     "data": {
      "text/plain": [
       "43.282527923583984"
      ]
     },
     "execution_count": 18,
     "metadata": {},
     "output_type": "execute_result"
    }
   ],
   "source": [
    "l = loss(h2, y1)\n",
    "l.item()"
   ]
  },
  {
   "cell_type": "markdown",
   "metadata": {},
   "source": [
    "##### Now that we've checked our gradients are correct, we can implement the network"
   ]
  },
  {
   "cell_type": "markdown",
   "metadata": {},
   "source": [
    "\n",
    "\\begin{aligned}\n",
    "z_1 &= x \\, w_1 + b_1, \\quad &z_2 &= h_1 \\, w_2 + b_2,\\\\[1mm]\n",
    "h_1 &= \\tanh(z_1), \\quad &h_2 &= \\tanh(z_2).\n",
    "\\end{aligned}\n",
    "\n",
    "\n",
    "\\begin{aligned}\n",
    "L = \\|h_2 - y_1\\|^2,\n",
    "\\end{aligned}\n",
    "\n",
    "so that\n",
    "\n",
    "\\begin{aligned}\n",
    "\\frac{\\partial L}{\\partial h_2} = 2\\,(h_2 - y_1).\n",
    "\\end{aligned}\n",
    "\n",
    "**For layer 2:**\n",
    "\n",
    "- **Output gradient:**\n",
    "  \\begin{aligned}\n",
    "  dh_2 = 2\\,(h_2 - y_1).\n",
    "  \\end{aligned}\n",
    "\n",
    "- **Backpropagation through tanh:**\n",
    "  \\begin{aligned}\n",
    "  dz_2 = \\Bigl( 1 - \\tanh(z_2)^2 \\Bigr) \\odot dh_2.\n",
    "  \\end{aligned}\n",
    "\n",
    "- **Gradients for layer 2 parameters:**\n",
    "  \\begin{aligned}\n",
    "  dw_2 = h_1^\\top\\,dz_2, \\quad db_2 = \\sum dz_2.\n",
    "  \\end{aligned}\n"
   ]
  },
  {
   "cell_type": "code",
   "execution_count": 19,
   "metadata": {},
   "outputs": [],
   "source": [
    "def forward(w1, b1, w2, b2, x):\n",
    "    z1 = x @ w1 + b1 \n",
    "    h1 = torch.tanh(z1)\n",
    "    z2 = h1 @ w2 + b2 \n",
    "    h2 = torch.tanh(z2) \n",
    "    return z1, h1, z2, h2\n"
   ]
  },
  {
   "cell_type": "code",
   "execution_count": 20,
   "metadata": {},
   "outputs": [],
   "source": [
    "def backward(w1, b1, w2, b2, x1, y1, h2, z2, h1, z1):\n",
    "    dl = 1.0\n",
    "    dh2 = 2 * (h2 - y1) * dl\n",
    "    dz2 = (1 - torch.tanh(z2)**2) * dh2\n",
    "    dw2 = h1.T @ dz2\n",
    "    db2 = dz2.sum(axis=0, keepdim=True)\n",
    "    dh1 = dz2 @ w2.T\n",
    "    dz1 = (1 - torch.tanh(z1)**2) * dh1\n",
    "    dw1 = x1.T @ dz1\n",
    "    db1 = dz1.sum(axis=0, keepdim=True)\n",
    "    return dw1, db1, dw2, db2"
   ]
  },
  {
   "cell_type": "code",
   "execution_count": 21,
   "metadata": {},
   "outputs": [],
   "source": [
    "def update(w1, b1, w2, b2, dw1, db1, dw2, db2, lr):\n",
    "    with torch.no_grad():\n",
    "        w1 += -lr * dw1\n",
    "        b1 += -lr * db1\n",
    "        w2 += -lr * dw2\n",
    "        b2 += -lr * db2\n",
    "    return w1, b1, w2, b2"
   ]
  },
  {
   "cell_type": "code",
   "execution_count": 22,
   "metadata": {},
   "outputs": [],
   "source": [
    "def init():\n",
    "    \"\"\" init a network \"\"\"\n",
    "    d_in, d_hidden, d_out = 784, 50, 10 \n",
    "\n",
    "    w1 = torch.randn(d_in, d_hidden, dtype=torch.float32)\n",
    "    b1 = torch.zeros(1, d_hidden, dtype=torch.float32)\n",
    "    w2 = torch.randn(d_hidden, d_out, dtype=torch.float32)\n",
    "    b2 = torch.zeros(1, d_out, dtype=torch.float32)\n",
    "    return w1, b1, w2, b2"
   ]
  },
  {
   "cell_type": "code",
   "execution_count": 23,
   "metadata": {},
   "outputs": [],
   "source": [
    "w1, b1, w2, b2 = init()\n",
    "parameters = [w1, b1, w2, b2]\n",
    "for p in parameters:\n",
    "    p.requires_grad_(True)"
   ]
  },
  {
   "cell_type": "code",
   "execution_count": 24,
   "metadata": {},
   "outputs": [],
   "source": [
    "# main training loop\n",
    "torch.set_printoptions(linewidth=200)\n",
    "def train(w1, b1, w2, b2):\n",
    "    lossi = []\n",
    "    for step in range(10000):\n",
    "        xb = train_input\n",
    "        yb = train_target\n",
    "        num_samples = xb.shape[0]\n",
    "        # forward\n",
    "        z1, h1, z2, h2 = forward(w1, b1, w2, b2, xb)\n",
    "        lsi = loss(h2, yb)\n",
    "        # backward\n",
    "        dw1, db1, dw2, db2 = backward(w1, b1, w2, b2, xb, yb, h2, z2, h1, z1)\n",
    "        # update\n",
    "        lr = 0.1 / num_samples if step < 5000 else 0.01 / num_samples\n",
    "        w1, b1, w2, b2 = update(w1, b1, w2, b2, dw1, db1, dw2, db2, lr)\n",
    "        if step % 100 == 0: print(f'step = {step}, loss = {lsi}')\n",
    "        lossi.append(lsi.item())\n",
    "    # compute accuracy\n",
    "    _, _, _, preds = forward(w1, b1, w2, b2, train_input)\n",
    "    train_accuracy = compute_accuracy(preds, train_target)\n",
    "    _, _, _, preds = forward(w1, b1, w2, b2, test_input)\n",
    "    test_accuracy = compute_accuracy(preds, test_target)\n",
    "    print(f'{train_accuracy=}')\n",
    "    print(f'{test_accuracy=}')\n",
    "    return lossi\n",
    "\n",
    "        \n",
    "    "
   ]
  },
  {
   "cell_type": "code",
   "execution_count": 25,
   "metadata": {},
   "outputs": [
    {
     "name": "stdout",
     "output_type": "stream",
     "text": [
      "step = 0, loss = 9327.875\n",
      "step = 100, loss = 8072.5048828125\n",
      "step = 200, loss = 7631.78857421875\n",
      "step = 300, loss = 7338.3525390625\n",
      "step = 400, loss = 7142.48095703125\n",
      "step = 500, loss = 6997.7744140625\n",
      "step = 600, loss = 6817.400390625\n",
      "step = 700, loss = 6718.619140625\n",
      "step = 800, loss = 6570.3984375\n",
      "step = 900, loss = 6484.91015625\n",
      "step = 1000, loss = 6304.37060546875\n",
      "step = 1100, loss = 6150.9775390625\n",
      "step = 1200, loss = 5986.3525390625\n",
      "step = 1300, loss = 5798.447265625\n",
      "step = 1400, loss = 5585.392578125\n",
      "step = 1500, loss = 5269.263671875\n",
      "step = 1600, loss = 4493.4150390625\n",
      "step = 1700, loss = 3937.642822265625\n",
      "step = 1800, loss = 3590.25341796875\n",
      "step = 1900, loss = 2889.75048828125\n",
      "step = 2000, loss = 2553.044921875\n",
      "step = 2100, loss = 2181.40673828125\n",
      "step = 2200, loss = 2084.495361328125\n",
      "step = 2300, loss = 1960.607177734375\n",
      "step = 2400, loss = 1721.9228515625\n",
      "step = 2500, loss = 1213.4764404296875\n",
      "step = 2600, loss = 1054.1436767578125\n",
      "step = 2700, loss = 927.4277954101562\n",
      "step = 2800, loss = 738.874267578125\n",
      "step = 2900, loss = 553.792236328125\n",
      "step = 3000, loss = 513.5015869140625\n",
      "step = 3100, loss = 494.77947998046875\n",
      "step = 3200, loss = 482.10504150390625\n",
      "step = 3300, loss = 473.5055847167969\n",
      "step = 3400, loss = 466.96856689453125\n",
      "step = 3500, loss = 461.0173034667969\n",
      "step = 3600, loss = 456.2262878417969\n",
      "step = 3700, loss = 452.170654296875\n",
      "step = 3800, loss = 448.9107666015625\n",
      "step = 3900, loss = 446.87548828125\n",
      "step = 4000, loss = 445.15240478515625\n",
      "step = 4100, loss = 443.5867614746094\n",
      "step = 4200, loss = 441.5838623046875\n",
      "step = 4300, loss = 439.6695861816406\n",
      "step = 4400, loss = 438.103271484375\n",
      "step = 4500, loss = 436.48187255859375\n",
      "step = 4600, loss = 433.486572265625\n",
      "step = 4700, loss = 430.6831970214844\n",
      "step = 4800, loss = 428.0257568359375\n",
      "step = 4900, loss = 426.052734375\n",
      "step = 5000, loss = 424.6649169921875\n",
      "step = 5100, loss = 403.1278076171875\n",
      "step = 5200, loss = 402.9939270019531\n",
      "step = 5300, loss = 402.8624267578125\n",
      "step = 5400, loss = 402.7321472167969\n",
      "step = 5500, loss = 402.60284423828125\n",
      "step = 5600, loss = 402.4742431640625\n",
      "step = 5700, loss = 402.34619140625\n",
      "step = 5800, loss = 402.2186584472656\n",
      "step = 5900, loss = 402.091552734375\n",
      "step = 6000, loss = 401.9648742675781\n",
      "step = 6100, loss = 401.8385314941406\n",
      "step = 6200, loss = 401.712646484375\n",
      "step = 6300, loss = 401.5872802734375\n",
      "step = 6400, loss = 401.46240234375\n",
      "step = 6500, loss = 401.338134765625\n",
      "step = 6600, loss = 401.21453857421875\n",
      "step = 6700, loss = 401.09173583984375\n",
      "step = 6800, loss = 400.96966552734375\n",
      "step = 6900, loss = 400.8482666015625\n",
      "step = 7000, loss = 400.7276611328125\n",
      "step = 7100, loss = 400.6077880859375\n",
      "step = 7200, loss = 400.4885559082031\n",
      "step = 7300, loss = 400.3699035644531\n",
      "step = 7400, loss = 400.2518615722656\n",
      "step = 7500, loss = 400.13433837890625\n",
      "step = 7600, loss = 400.0173034667969\n",
      "step = 7700, loss = 399.9007873535156\n",
      "step = 7800, loss = 399.7847900390625\n",
      "step = 7900, loss = 399.6692810058594\n",
      "step = 8000, loss = 399.55426025390625\n",
      "step = 8100, loss = 399.43975830078125\n",
      "step = 8200, loss = 399.3257141113281\n",
      "step = 8300, loss = 399.212158203125\n",
      "step = 8400, loss = 399.09912109375\n",
      "step = 8500, loss = 398.9866027832031\n",
      "step = 8600, loss = 398.8744812011719\n",
      "step = 8700, loss = 398.7626953125\n",
      "step = 8800, loss = 398.65130615234375\n",
      "step = 8900, loss = 398.54022216796875\n",
      "step = 9000, loss = 398.4293518066406\n",
      "step = 9100, loss = 398.318603515625\n",
      "step = 9200, loss = 398.2079162597656\n",
      "step = 9300, loss = 398.09716796875\n",
      "step = 9400, loss = 397.986328125\n",
      "step = 9500, loss = 397.87518310546875\n",
      "step = 9600, loss = 397.763671875\n",
      "step = 9700, loss = 397.6517333984375\n",
      "step = 9800, loss = 397.5392150878906\n",
      "step = 9900, loss = 397.4260559082031\n",
      "train_accuracy=0.8360000252723694\n",
      "test_accuracy=0.5720000267028809\n"
     ]
    }
   ],
   "source": [
    "lossi = train(w1, b1, w2, b2)\n"
   ]
  },
  {
   "cell_type": "code",
   "execution_count": 26,
   "metadata": {},
   "outputs": [
    {
     "data": {
      "text/plain": [
       "[<matplotlib.lines.Line2D at 0x128575180>]"
      ]
     },
     "execution_count": 26,
     "metadata": {},
     "output_type": "execute_result"
    },
    {
     "data": {
      "image/png": "[encoded data removed]",
      "text/plain": [
       "<Figure size 640x480 with 1 Axes>"
      ]
     },
     "metadata": {},
     "output_type": "display_data"
    }
   ],
   "source": [
    "plt.plot(lossi)"
   ]
  },
  {
   "cell_type": "markdown",
   "metadata": {},
   "source": [
    "### Step 2: Reference implementation using pytorch's .backward()\n",
    "Nothing to do in Step 2, this code is provided for you as a reference"
   ]
  },
  {
   "cell_type": "code",
   "execution_count": 27,
   "metadata": {},
   "outputs": [],
   "source": [
    "w1, b1, w2, b2 = init()\n",
    "parameters = [w1, b1, w2, b2]\n",
    "for p in parameters:\n",
    "    p.requires_grad_(True)"
   ]
  },
  {
   "cell_type": "code",
   "execution_count": 28,
   "metadata": {},
   "outputs": [],
   "source": [
    "# reference code\n",
    "torch.set_printoptions(linewidth=200)\n",
    "import torch.nn as F\n",
    "\n",
    "def train(w1, b1, w2, b2):\n",
    "    lossi = []\n",
    "    for step in range(10000):\n",
    "        xb = train_input\n",
    "        yb = train_target\n",
    "        num_samples = xb.shape[0]\n",
    "        # forward\n",
    "        z1, h1, z2, h2 = forward(w1, b1, w2, b2, xb)\n",
    "        xloss = F.MSELoss()\n",
    "        lsi = xloss(h2, yb) * yb.nelement()\n",
    "        # backward\n",
    "        for p in parameters:\n",
    "            p.grad = None\n",
    "        lsi.backward()\n",
    "        # update\n",
    "        lr = 0.1 / num_samples\n",
    "        for p in parameters:\n",
    "            p.data += -lr * p.grad\n",
    "        if step % 100 == 0: print(f'step = {step}, loss = {lsi}')\n",
    "        lossi.append(lsi.item())\n",
    "    # compute accuracy\n",
    "    _, _, _, preds = forward(w1, b1, w2, b2, train_input)\n",
    "    train_accuracy = compute_accuracy(preds, train_target)\n",
    "    _, _, _, preds = forward(w1, b1, w2, b2, test_input)\n",
    "    test_accuracy = compute_accuracy(preds, test_target)\n",
    "    print(f'{train_accuracy=}')\n",
    "    print(f'{test_accuracy=}')\n",
    "    return lossi"
   ]
  },
  {
   "cell_type": "code",
   "execution_count": 29,
   "metadata": {},
   "outputs": [
    {
     "name": "stdout",
     "output_type": "stream",
     "text": [
      "step = 0, loss = 9660.6357421875\n",
      "step = 100, loss = 8209.51171875\n",
      "step = 200, loss = 7815.451171875\n",
      "step = 300, loss = 7545.455078125\n",
      "step = 400, loss = 7310.48486328125\n",
      "step = 500, loss = 7124.2080078125\n",
      "step = 600, loss = 6951.67529296875\n",
      "step = 700, loss = 6739.5146484375\n",
      "step = 800, loss = 6512.7626953125\n",
      "step = 900, loss = 6259.5556640625\n",
      "step = 1000, loss = 5817.6640625\n",
      "step = 1100, loss = 5047.923828125\n",
      "step = 1200, loss = 4802.81787109375\n",
      "step = 1300, loss = 4247.7841796875\n",
      "step = 1400, loss = 3799.70849609375\n",
      "step = 1500, loss = 3685.208740234375\n",
      "step = 1600, loss = 3483.32080078125\n",
      "step = 1700, loss = 3157.22265625\n",
      "step = 1800, loss = 3084.2724609375\n",
      "step = 1900, loss = 3017.005859375\n",
      "step = 2000, loss = 2939.00048828125\n",
      "step = 2100, loss = 2815.15771484375\n",
      "step = 2200, loss = 2471.42919921875\n",
      "step = 2300, loss = 2232.200439453125\n",
      "step = 2400, loss = 1957.146240234375\n",
      "step = 2500, loss = 1911.5325927734375\n",
      "step = 2600, loss = 1863.94482421875\n",
      "step = 2700, loss = 1808.98193359375\n",
      "step = 2800, loss = 1749.633056640625\n",
      "step = 2900, loss = 1673.793701171875\n",
      "step = 3000, loss = 1552.201904296875\n",
      "step = 3100, loss = 1257.173095703125\n",
      "step = 3200, loss = 695.051025390625\n",
      "step = 3300, loss = 470.349365234375\n",
      "step = 3400, loss = 450.7803039550781\n",
      "step = 3500, loss = 441.1287841796875\n",
      "step = 3600, loss = 433.8912048339844\n",
      "step = 3700, loss = 427.6289367675781\n",
      "step = 3800, loss = 422.30084228515625\n",
      "step = 3900, loss = 418.3131103515625\n",
      "step = 4000, loss = 415.1422119140625\n",
      "step = 4100, loss = 412.0663146972656\n",
      "step = 4200, loss = 409.09259033203125\n",
      "step = 4300, loss = 406.47119140625\n",
      "step = 4400, loss = 404.1275634765625\n",
      "step = 4500, loss = 401.8723449707031\n",
      "step = 4600, loss = 399.6646423339844\n",
      "step = 4700, loss = 397.50677490234375\n",
      "step = 4800, loss = 395.5967102050781\n",
      "step = 4900, loss = 393.926025390625\n",
      "step = 5000, loss = 392.3255615234375\n",
      "step = 5100, loss = 390.5713806152344\n",
      "step = 5200, loss = 388.8181457519531\n",
      "step = 5300, loss = 387.20330810546875\n",
      "step = 5400, loss = 385.7375183105469\n",
      "step = 5500, loss = 384.39202880859375\n",
      "step = 5600, loss = 383.0442810058594\n",
      "step = 5700, loss = 381.581787109375\n",
      "step = 5800, loss = 380.05615234375\n",
      "step = 5900, loss = 378.7141418457031\n",
      "step = 6000, loss = 377.4779968261719\n",
      "step = 6100, loss = 376.3186950683594\n",
      "step = 6200, loss = 375.2248229980469\n",
      "step = 6300, loss = 374.1664123535156\n",
      "step = 6400, loss = 373.1585693359375\n",
      "step = 6500, loss = 372.2301025390625\n",
      "step = 6600, loss = 371.3746337890625\n",
      "step = 6700, loss = 370.57281494140625\n",
      "step = 6800, loss = 369.8046569824219\n",
      "step = 6900, loss = 369.0596923828125\n",
      "step = 7000, loss = 368.3245849609375\n",
      "step = 7100, loss = 367.5819091796875\n",
      "step = 7200, loss = 366.80633544921875\n",
      "step = 7300, loss = 366.0101318359375\n",
      "step = 7400, loss = 365.16827392578125\n",
      "step = 7500, loss = 364.316650390625\n",
      "step = 7600, loss = 363.46502685546875\n",
      "step = 7700, loss = 362.6282958984375\n",
      "step = 7800, loss = 361.822509765625\n",
      "step = 7900, loss = 361.0397644042969\n",
      "step = 8000, loss = 360.28466796875\n",
      "step = 8100, loss = 359.53302001953125\n",
      "step = 8200, loss = 358.7655944824219\n",
      "step = 8300, loss = 357.9765930175781\n",
      "step = 8400, loss = 357.1881103515625\n",
      "step = 8500, loss = 356.4581298828125\n",
      "step = 8600, loss = 355.75506591796875\n",
      "step = 8700, loss = 355.04534912109375\n",
      "step = 8800, loss = 354.34375\n",
      "step = 8900, loss = 353.6544494628906\n",
      "step = 9000, loss = 353.00384521484375\n",
      "step = 9100, loss = 352.3977966308594\n",
      "step = 9200, loss = 351.7852783203125\n",
      "step = 9300, loss = 351.0582580566406\n",
      "step = 9400, loss = 350.3863830566406\n",
      "step = 9500, loss = 349.8186950683594\n",
      "step = 9600, loss = 349.2891540527344\n",
      "step = 9700, loss = 348.7711486816406\n",
      "step = 9800, loss = 348.248779296875\n",
      "step = 9900, loss = 347.65338134765625\n",
      "train_accuracy=0.8849999904632568\n",
      "test_accuracy=0.6150000095367432\n"
     ]
    }
   ],
   "source": [
    "lossi = train(w1, b1, w2, b2)"
   ]
  },
  {
   "cell_type": "code",
   "execution_count": 30,
   "metadata": {},
   "outputs": [
    {
     "data": {
      "text/plain": [
       "[<matplotlib.lines.Line2D at 0x1285485e0>]"
      ]
     },
     "execution_count": 30,
     "metadata": {},
     "output_type": "execute_result"
    },
    {
     "data": {
      "image/png": "[encoded data removed]",
      "text/plain": [
       "<Figure size 640x480 with 1 Axes>"
      ]
     },
     "metadata": {},
     "output_type": "display_data"
    }
   ],
   "source": [
    "plt.plot(lossi)"
   ]
  },
  {
   "cell_type": "markdown",
   "metadata": {},
   "source": [
    "### Step 3: Build the same MLP layer but with fully pytorch code (nn.Linear(), etc.)"
   ]
  },
  {
   "cell_type": "code",
   "execution_count": 31,
   "metadata": {},
   "outputs": [],
   "source": [
    "# network dimensions\n",
    "n_in = 784\n",
    "n_hidden = 200\n",
    "n_out = 10"
   ]
  },
  {
   "cell_type": "code",
   "execution_count": 32,
   "metadata": {},
   "outputs": [],
   "source": [
    "X_tr, Y_tr = train_input, train_target\n",
    "X_test, Y_test = test_input, test_target"
   ]
  },
  {
   "cell_type": "code",
   "execution_count": 34,
   "metadata": {},
   "outputs": [],
   "source": [
    "class MLP(nn.Module):\n",
    "\n",
    "    def __init__(self):\n",
    "        super().__init__()\n",
    "        self.layers = nn.ModuleList((\n",
    "            nn.Linear(784, 50),\n",
    "            nn.Tanh(),\n",
    "            nn.Linear(50, 10),\n",
    "            nn.Tanh()\n",
    "        ))\n",
    "\n",
    "    def __call__(self, x):\n",
    "        for layer in self.layers:\n",
    "            x = layer(x)\n",
    "        return x\n",
    "    \n",
    "    def __parameters__(self):\n",
    "        return [p for layer in self.layers for p in layer.parameters]\n",
    "\n",
    "model = MLP()\n",
    "optimizer = torch.optim.AdamW(model.parameters(), lr=1e-3)\n",
    "loss_fn = nn.MSELoss()"
   ]
  },
  {
   "cell_type": "code",
   "execution_count": 35,
   "metadata": {},
   "outputs": [
    {
     "name": "stdout",
     "output_type": "stream",
     "text": [
      "step =      0\tloss=0.14985\taccuracy (train, test): 0.08400\t0.23100\n",
      "step =   1000\tloss=0.00062\taccuracy (train, test): 1.00000\t0.85600\n",
      "step =   2000\tloss=0.00024\taccuracy (train, test): 1.00000\t0.84400\n",
      "step =   3000\tloss=0.00007\taccuracy (train, test): 1.00000\t0.83600\n",
      "step =   4000\tloss=0.00005\taccuracy (train, test): 1.00000\t0.83000\n",
      "step =   5000\tloss=0.00003\taccuracy (train, test): 1.00000\t0.83200\n",
      "step =   6000\tloss=0.00007\taccuracy (train, test): 1.00000\t0.83200\n",
      "step =   7000\tloss=0.00001\taccuracy (train, test): 1.00000\t0.83100\n",
      "step =   8000\tloss=0.00003\taccuracy (train, test): 1.00000\t0.82900\n",
      "step =   9000\tloss=0.00001\taccuracy (train, test): 1.00000\t0.82300\n"
     ]
    }
   ],
   "source": [
    "# training\n",
    "num_epochs = 10000\n",
    "\n",
    "for n in range(num_epochs):\n",
    "    y_pred = model(X_tr)\n",
    "    loss = loss_fn(y_pred, Y_tr)\n",
    "    optimizer.zero_grad()\n",
    "    loss.backward()\n",
    "    optimizer.step()\n",
    "    if n % 1000 == 0: \n",
    "        with torch.no_grad():\n",
    "            # train accuracy\n",
    "            acc_train = compute_accuracy(y_pred, Y_tr)\n",
    "            # test accuracy\n",
    "            y_test_preds = model(X_test)\n",
    "            acc_test = compute_accuracy(y_test_preds, Y_test)\n",
    "            print(f'step = {n:6d}\\tloss={loss.item():.5f}\\taccuracy (train, test): {acc_train:.5f}\\t{acc_test:.5f}')\n",
    "\n",
    "\n"
   ]
  },
  {
   "cell_type": "markdown",
   "metadata": {},
   "source": [
    "##### Exercise: try to improve accuracy!"
   ]
  },
  {
   "cell_type": "code",
   "execution_count": 103,
   "metadata": {},
   "outputs": [],
   "source": [
    "class MLP_with_Dropout(nn.Module):\n",
    "\n",
    "    def __init__(self):\n",
    "        super().__init__()\n",
    "        self.layers = nn.ModuleList((\n",
    "            nn.Linear(784, 50),\n",
    "            nn.Tanh(),\n",
    "            nn.Dropout(p=0.05), \n",
    "            nn.Linear(50, 10),\n",
    "            nn.Tanh()\n",
    "        ))\n",
    "\n",
    "    def __call__(self, x):\n",
    "        for layer in self.layers:\n",
    "            x = layer(x)\n",
    "        return x\n",
    "    \n",
    "    def __parameters__(self):\n",
    "        return [p for layer in self.layers for p in layer.parameters]\n",
    "\n",
    "model_with_dropout = MLP_with_Dropout()\n",
    "optimizer = torch.optim.AdamW(model_with_dropout.parameters(), lr=1e-5)\n",
    "scheduler = torch.optim.lr_scheduler.StepLR(optimizer, step_size=1000, gamma=0.8)\n",
    "loss_fn = nn.CrossEntropyLoss()"
   ]
  },
  {
   "cell_type": "code",
   "execution_count": 104,
   "metadata": {},
   "outputs": [
    {
     "name": "stdout",
     "output_type": "stream",
     "text": [
      "step =      0\tloss=2.11839\taccuracy (train, test): 0.06300\t0.07500\n",
      "step =   1000\tloss=1.36298\taccuracy (train, test): 0.84500\t0.74400\n",
      "step =   2000\tloss=1.20509\taccuracy (train, test): 0.89900\t0.80100\n",
      "step =   3000\tloss=1.12193\taccuracy (train, test): 0.92700\t0.81300\n",
      "step =   4000\tloss=1.06733\taccuracy (train, test): 0.93800\t0.82800\n",
      "step =   5000\tloss=1.03080\taccuracy (train, test): 0.94900\t0.83800\n",
      "step =   6000\tloss=1.00234\taccuracy (train, test): 0.95500\t0.83500\n",
      "step =   7000\tloss=0.98094\taccuracy (train, test): 0.96200\t0.84400\n",
      "step =   8000\tloss=0.96634\taccuracy (train, test): 0.96400\t0.84300\n",
      "step =   9000\tloss=0.95323\taccuracy (train, test): 0.96600\t0.85600\n"
     ]
    }
   ],
   "source": [
    "# training\n",
    "num_epochs = 10000\n",
    "\n",
    "for n in range(num_epochs):\n",
    "    y_pred = model_with_dropout(X_tr)\n",
    "    loss = loss_fn(y_pred, Y_tr)\n",
    "    optimizer.zero_grad()\n",
    "    loss.backward()\n",
    "    optimizer.step()\n",
    "    scheduler.step()\n",
    "    if n % 1000 == 0: \n",
    "        with torch.no_grad():\n",
    "            # train accuracy\n",
    "            acc_train = compute_accuracy(y_pred, Y_tr)\n",
    "            # test accuracy\n",
    "            y_test_preds = model_with_dropout(X_test)\n",
    "            acc_test = compute_accuracy(y_test_preds, Y_test)\n",
    "            print(f'step = {n:6d}\\tloss={loss.item():.5f}\\taccuracy (train, test): {acc_train:.5f}\\t{acc_test:.5f}')\n"
   ]
  },
  {
   "cell_type": "markdown",
   "metadata": {},
   "source": [
    "A slight dropout and replacing MSE Loss with Cross Entropy Loss, along with a scheduler that decreases the learning rate every 1000 epochs by a factor of gamma = 0.8, improve the model's performance. Accuracy increases from 0.823 to 0.856. Moreover, there is no more or at least reduced overfitting."
   ]
  },
  {
   "cell_type": "markdown",
   "metadata": {},
   "source": []
  },
  {
   "cell_type": "markdown",
   "metadata": {},
   "source": []
  }
 ],
 "metadata": {
  "kernelspec": {
   "display_name": "env",
   "language": "python",
   "name": "python3"
  },
  "language_info": {
   "codemirror_mode": {
    "name": "ipython",
    "version": 3
   },
   "file_extension": ".py",
   "mimetype": "text/x-python",
   "name": "python",
   "nbconvert_exporter": "python",
   "pygments_lexer": "ipython3",
   "version": "3.10.12"
  }
 },
 "nbformat": 4,
 "nbformat_minor": 2
}
