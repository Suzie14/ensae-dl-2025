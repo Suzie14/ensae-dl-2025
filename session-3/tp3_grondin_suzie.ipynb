{
 "cells": [
  {
   "cell_type": "code",
   "execution_count": 1,
   "metadata": {},
   "outputs": [],
   "source": [
    "# MNIST with an MLP, from scratch\n",
    "\n",
    "# - Step 1: build an MLP from scratch to solve MNIST. Question set: https://fleuret.org/dlc/materials/dlc-practical-3.pdf\n",
    "# - Step 2: debug your network with backprop ninja and a reference implementation using torch's .backward()\n",
    "# - Step 3: build the same MLP but will full pytorch code (nn.Linear, etc.)"
   ]
  },
  {
   "cell_type": "code",
   "execution_count": 20,
   "metadata": {},
   "outputs": [],
   "source": [
    "import math\n",
    "import torch\n",
    "from torch import nn\n",
    "import matplotlib.pyplot as plt\n",
    "%matplotlib inline"
   ]
  },
  {
   "cell_type": "code",
   "execution_count": 8,
   "metadata": {},
   "outputs": [],
   "source": [
    "from utils import load_data"
   ]
  },
  {
   "cell_type": "code",
   "execution_count": 9,
   "metadata": {},
   "outputs": [
    {
     "name": "stdout",
     "output_type": "stream",
     "text": [
      "* Using MNIST\n",
      "** Reduce the data-set (use --full for the full thing)\n",
      "** Use 1000 train and 1000 test samples\n"
     ]
    }
   ],
   "source": [
    "train_input, train_target, test_input, test_target = load_data(one_hot_labels = True, normalize = True)"
   ]
  },
  {
   "cell_type": "code",
   "execution_count": 5,
   "metadata": {},
   "outputs": [
    {
     "data": {
      "text/plain": [
       "<matplotlib.image.AxesImage at 0x13a114d00>"
      ]
     },
     "execution_count": 5,
     "metadata": {},
     "output_type": "execute_result"
    },
    {
     "data": {
      "image/png": "[encoded data removed]",
      "text/plain": [
       "<Figure size 640x480 with 1 Axes>"
      ]
     },
     "metadata": {},
     "output_type": "display_data"
    }
   ],
   "source": [
    "plt.imshow(train_input[4].view((28,28)))"
   ]
  },
  {
   "cell_type": "code",
   "execution_count": 15,
   "metadata": {},
   "outputs": [],
   "source": [
    "def compute_accuracy (preds, targets):\n",
    "    \"\"\" Computes the accuracy between predictions and targets. Data is expected to be one-hot encoded. \"\"\"\n",
    "    _, idx1 = torch.max(preds, dim=1)\n",
    "    _, idx2 = torch.max(targets, dim=1)\n",
    "    d = idx1 == idx2\n",
    "    return d.int().float().mean().item()"
   ]
  },
  {
   "cell_type": "code",
   "execution_count": 7,
   "metadata": {},
   "outputs": [
    {
     "data": {
      "text/plain": [
       "0.75"
      ]
     },
     "execution_count": 7,
     "metadata": {},
     "output_type": "execute_result"
    }
   ],
   "source": [
    "# unit test\n",
    "# this cell should return 0.75\n",
    "preds = torch.zeros((4,7))\n",
    "preds[0,1] = 1\n",
    "preds[1,4] = 1\n",
    "preds[2,2] = 1\n",
    "preds[3,6] = 1\n",
    "targets = torch.zeros((4,7))\n",
    "targets[0,1] = 1\n",
    "targets[1,4] = 1\n",
    "targets[2,2] = 1\n",
    "targets[3,2] = 1\n",
    "compute_accuracy(preds, targets)"
   ]
  },
  {
   "cell_type": "code",
   "execution_count": 8,
   "metadata": {},
   "outputs": [],
   "source": [
    "def sigma(x):\n",
    "    return torch.tanh(x)\n",
    "\n",
    "def dsigma(x):\n",
    "    return 1 - torch.pow(torch.tanh(x), 2)"
   ]
  },
  {
   "cell_type": "code",
   "execution_count": 9,
   "metadata": {},
   "outputs": [],
   "source": [
    "def loss(v, t):\n",
    "    return torch.sum(torch.pow(t - v, 2))\n",
    "\n",
    "def dloss(v, t):\n",
    "    return 2 * (v - t)"
   ]
  },
  {
   "cell_type": "code",
   "execution_count": 10,
   "metadata": {},
   "outputs": [
    {
     "data": {
      "text/plain": [
       "tensor([[ 2.3527, -0.7847, -1.4954, -0.4929,  1.5305, -3.0965],\n",
       "        [ 3.5871, -1.6806,  0.7551,  2.2729, -0.3817, -1.7495],\n",
       "        [ 1.3005, -0.9118, -7.4731, -1.1744,  1.7405, -0.9367]])"
      ]
     },
     "execution_count": 10,
     "metadata": {},
     "output_type": "execute_result"
    }
   ],
   "source": [
    "# sanity check\n",
    "v = torch.randn((3, 6), dtype=torch.float32)\n",
    "t = torch.randn((3, 6), dtype=torch.float32)\n",
    "l=loss(v,t)\n",
    "dloss(v,t)"
   ]
  },
  {
   "cell_type": "code",
   "execution_count": 11,
   "metadata": {},
   "outputs": [],
   "source": [
    "# multiply targets by 0.9 to be in the range of tanh\n",
    "train_target *= 0.9\n",
    "test_target *= 0.9"
   ]
  },
  {
   "cell_type": "markdown",
   "metadata": {},
   "source": [
    "### Step 1: Backprop ninja"
   ]
  },
  {
   "cell_type": "code",
   "execution_count": 12,
   "metadata": {},
   "outputs": [],
   "source": [
    "# utility function we will use later when comparing manual gradients to PyTorch gradients\n",
    "# DO NOT MODIFY IT\n",
    "#\n",
    "def cmp(s, dt, t):\n",
    "  ex = torch.all(dt == t.grad).item()\n",
    "  app = torch.allclose(dt, t.grad)\n",
    "  maxdiff = (dt - t.grad).abs().max().item()\n",
    "  print(f'{s:15s} | exact: {str(ex):5s} | approximate: {str(app):5s} | maxdiff: {maxdiff}')"
   ]
  },
  {
   "cell_type": "code",
   "execution_count": 13,
   "metadata": {},
   "outputs": [],
   "source": [
    "torch.manual_seed(1337)\n",
    "w1 = torch.randn((784, 50))\n",
    "b1 = torch.randn((50,))\n",
    "w2 = torch.randn((50, 10))\n",
    "b2 = torch.randn((10,))\n",
    "parameters = [w1, b1, w2, b2]\n",
    "for p in parameters:\n",
    "    p.requires_grad = True"
   ]
  },
  {
   "cell_type": "code",
   "execution_count": 14,
   "metadata": {},
   "outputs": [
    {
     "data": {
      "text/plain": [
       "(torch.Size([5, 10]), tensor(43.2825, grad_fn=<SumBackward0>))"
      ]
     },
     "execution_count": 14,
     "metadata": {},
     "output_type": "execute_result"
    }
   ],
   "source": [
    "x1 = train_input[:5]\n",
    "y1 = train_target[:5]\n",
    "z1 = x1 @ w1 + b1\n",
    "h1 = sigma(z1)\n",
    "z2 = h1 @ w2 + b2\n",
    "h2 = sigma(z2)\n",
    "l = loss(h2, y1)\n",
    "h2.shape, l"
   ]
  },
  {
   "cell_type": "code",
   "execution_count": 15,
   "metadata": {},
   "outputs": [
    {
     "name": "stdout",
     "output_type": "stream",
     "text": [
      "loss=43.282527923583984\n"
     ]
    }
   ],
   "source": [
    "# Force pytorch to retain grade for intermediate nodes and reset grad for parameters\n",
    "# DO NOT MODIFY THIS CODE\n",
    "#\n",
    "others = [h2,z2,h1,z1]\n",
    "for p in parameters:\n",
    "    p.grad = None\n",
    "for t in others:\n",
    "    t.retain_grad()\n",
    "l.backward()\n",
    "print(f'loss={l}')"
   ]
  },
  {
   "cell_type": "code",
   "execution_count": 16,
   "metadata": {},
   "outputs": [
    {
     "data": {
      "text/plain": [
       "torch.Size([10])"
      ]
     },
     "execution_count": 16,
     "metadata": {},
     "output_type": "execute_result"
    }
   ],
   "source": [
    "b2.grad.shape"
   ]
  },
  {
   "cell_type": "code",
   "execution_count": 17,
   "metadata": {},
   "outputs": [
    {
     "name": "stdout",
     "output_type": "stream",
     "text": [
      "h2              | exact: True  | approximate: True  | maxdiff: 0.0\n",
      "z2              | exact: False | approximate: True  | maxdiff: 1.6298145055770874e-09\n",
      "w2              | exact: True  | approximate: True  | maxdiff: 0.0\n",
      "b2              | exact: True  | approximate: True  | maxdiff: 0.0\n",
      "h1              | exact: False | approximate: True  | maxdiff: 1.4901161193847656e-08\n",
      "z1              | exact: False | approximate: True  | maxdiff: 4.423782229423523e-09\n",
      "w1              | exact: False | approximate: True  | maxdiff: 5.960464477539063e-08\n",
      "b1              | exact: True  | approximate: True  | maxdiff: 0.0\n"
     ]
    }
   ],
   "source": [
    "# here we compare our gradient to the reference gradient computed by pytorch\n",
    "dl = 1.0\n",
    "dh2 = dloss(h2, y1) * dl\n",
    "cmp('h2',dh2,h2)\n",
    "dz2 = dsigma(z2) * dh2\n",
    "cmp('z2',dz2, z2)\n",
    "dw2 = h1.T @ dz2\n",
    "cmp('w2',dw2, w2)\n",
    "db2 = dz2.sum(axis=0, keepdim=True)\n",
    "cmp('b2',db2, b2)\n",
    "dh1 = dz2 @ w2.T\n",
    "cmp('h1',dh1, h1)\n",
    "dz1 = dsigma(z1) * dh1\n",
    "cmp('z1', dz1, z1)\n",
    "dw1 = x1.T @ dz1\n",
    "cmp('w1', dw1, w1)\n",
    "db1 = dz1.sum(axis=0, keepdim=True)\n",
    "cmp('b1', db1, b1)\n"
   ]
  },
  {
   "cell_type": "code",
   "execution_count": 18,
   "metadata": {},
   "outputs": [],
   "source": [
    "lr = 0.1\n",
    "with torch.no_grad():\n",
    "    w1 += -lr * dw1\n",
    "    b1 += -lr * db1.squeeze()\n",
    "    w2 += -lr * dw2\n",
    "    b2 += -lr * db2.squeeze()"
   ]
  },
  {
   "cell_type": "code",
   "execution_count": 19,
   "metadata": {},
   "outputs": [
    {
     "data": {
      "text/plain": [
       "43.282527923583984"
      ]
     },
     "execution_count": 19,
     "metadata": {},
     "output_type": "execute_result"
    }
   ],
   "source": [
    "l = loss(h2, y1)\n",
    "l.item()"
   ]
  },
  {
   "cell_type": "markdown",
   "metadata": {},
   "source": [
    "##### Now that we've checked our gradients are correct, we can implement the network"
   ]
  },
  {
   "cell_type": "markdown",
   "metadata": {},
   "source": [
    "\n",
    "\\begin{aligned}\n",
    "z_1 &= x \\, w_1 + b_1, \\quad &z_2 &= h_1 \\, w_2 + b_2,\\\\[1mm]\n",
    "h_1 &= \\tanh(z_1), \\quad &h_2 &= \\tanh(z_2).\n",
    "\\end{aligned}\n",
    "\n",
    "\n",
    "\\begin{aligned}\n",
    "L = \\|h_2 - y_1\\|^2,\n",
    "\\end{aligned}\n",
    "\n",
    "so that\n",
    "\n",
    "\\begin{aligned}\n",
    "\\frac{\\partial L}{\\partial h_2} = 2\\,(h_2 - y_1).\n",
    "\\end{aligned}\n",
    "\n",
    "**For layer 2:**\n",
    "\n",
    "- **Output gradient:**\n",
    "  \\begin{aligned}\n",
    "  dh_2 = 2\\,(h_2 - y_1).\n",
    "  \\end{aligned}\n",
    "\n",
    "- **Backpropagation through tanh:**\n",
    "  \\begin{aligned}\n",
    "  dz_2 = \\Bigl( 1 - \\tanh(z_2)^2 \\Bigr) \\odot dh_2.\n",
    "  \\end{aligned}\n",
    "\n",
    "- **Gradients for layer 2 parameters:**\n",
    "  \\begin{aligned}\n",
    "  dw_2 = h_1^\\top\\,dz_2, \\quad db_2 = \\sum dz_2.\n",
    "  \\end{aligned}\n"
   ]
  },
  {
   "cell_type": "code",
   "execution_count": 20,
   "metadata": {},
   "outputs": [],
   "source": [
    "def forward(w1, b1, w2, b2, x):\n",
    "    z1 = x @ w1 + b1 \n",
    "    h1 = torch.tanh(z1)\n",
    "    z2 = h1 @ w2 + b2 \n",
    "    h2 = torch.tanh(z2) \n",
    "    return z1, h1, z2, h2\n"
   ]
  },
  {
   "cell_type": "code",
   "execution_count": 2,
   "metadata": {},
   "outputs": [],
   "source": [
    "def backward(w1, b1, w2, b2, x1, y1, h2, z2, h1, z1):\n",
    "    dl = 1.0\n",
    "    dh2 = 2 * (h2 - y1) * dl\n",
    "    dz2 = (1 - torch.tanh(z2)**2) * dh2\n",
    "    dw2 = h1.T @ dz2\n",
    "    db2 = dz2.sum(axis=0, keepdim=True)\n",
    "    dh1 = dz2 @ w2.T\n",
    "    dz1 = (1 - torch.tanh(z1)**2) * dh1\n",
    "    dw1 = x1.T @ dz1\n",
    "    db1 = dz1.sum(axis=0, keepdim=True)\n",
    "    return dw1, db1, dw2, db2"
   ]
  },
  {
   "cell_type": "code",
   "execution_count": 3,
   "metadata": {},
   "outputs": [],
   "source": [
    "def update(w1, b1, w2, b2, dw1, db1, dw2, db2, lr):\n",
    "    with torch.no_grad():\n",
    "        w1 += -lr * dw1\n",
    "        b1 += -lr * db1\n",
    "        w2 += -lr * dw2\n",
    "        b2 += -lr * db2\n",
    "    return w1, b1, w2, b2"
   ]
  },
  {
   "cell_type": "code",
   "execution_count": 4,
   "metadata": {},
   "outputs": [],
   "source": [
    "def init():\n",
    "    \"\"\" init a network \"\"\"\n",
    "    d_in, d_hidden, d_out = 784, 50, 10 \n",
    "\n",
    "    w1 = torch.randn(d_in, d_hidden, dtype=torch.float32)\n",
    "    b1 = torch.zeros(1, d_hidden, dtype=torch.float32)\n",
    "    w2 = torch.randn(d_hidden, d_out, dtype=torch.float32)\n",
    "    b2 = torch.zeros(1, d_out, dtype=torch.float32)\n",
    "    return w1, b1, w2, b2"
   ]
  },
  {
   "cell_type": "code",
   "execution_count": 34,
   "metadata": {},
   "outputs": [],
   "source": [
    "w1, b1, w2, b2 = init()\n",
    "parameters = [w1, b1, w2, b2]\n",
    "for p in parameters:\n",
    "    p.requires_grad_(True)"
   ]
  },
  {
   "cell_type": "code",
   "execution_count": 35,
   "metadata": {},
   "outputs": [],
   "source": [
    "# main training loop\n",
    "torch.set_printoptions(linewidth=200)\n",
    "def train(w1, b1, w2, b2):\n",
    "    lossi = []\n",
    "    for step in range(10000):\n",
    "        xb = train_input\n",
    "        yb = train_target\n",
    "        num_samples = xb.shape[0]\n",
    "        # forward\n",
    "        z1, h1, z2, h2 = forward(w1, b1, w2, b2, xb)\n",
    "        lsi = loss(h2, yb)\n",
    "        # backward\n",
    "        dw1, db1, dw2, db2 = backward(w1, b1, w2, b2, xb, yb, h2, z2, h1, z1)\n",
    "        # update\n",
    "        lr = 0.1 / num_samples if step < 5000 else 0.01 / num_samples\n",
    "        w1, b1, w2, b2 = update(w1, b1, w2, b2, dw1, db1, dw2, db2, lr)\n",
    "        if step % 100 == 0: print(f'step = {step}, loss = {lsi}')\n",
    "        lossi.append(lsi.item())\n",
    "    # compute accuracy\n",
    "    _, _, _, preds = forward(w1, b1, w2, b2, train_input)\n",
    "    train_accuracy = compute_accuracy(preds, train_target)\n",
    "    _, _, _, preds = forward(w1, b1, w2, b2, test_input)\n",
    "    test_accuracy = compute_accuracy(preds, test_target)\n",
    "    print(f'{train_accuracy=}')\n",
    "    print(f'{test_accuracy=}')\n",
    "    return lossi\n",
    "\n",
    "        \n",
    "    "
   ]
  },
  {
   "cell_type": "code",
   "execution_count": 36,
   "metadata": {},
   "outputs": [
    {
     "name": "stdout",
     "output_type": "stream",
     "text": [
      "step = 0, loss = 9504.736328125\n",
      "step = 100, loss = 8104.51904296875\n",
      "step = 200, loss = 7691.15625\n",
      "step = 300, loss = 7346.40234375\n",
      "step = 400, loss = 7139.935546875\n",
      "step = 500, loss = 7003.6728515625\n",
      "step = 600, loss = 6897.9560546875\n",
      "step = 700, loss = 6767.8232421875\n",
      "step = 800, loss = 6645.294921875\n",
      "step = 900, loss = 6520.8115234375\n",
      "step = 1000, loss = 6400.4716796875\n",
      "step = 1100, loss = 6251.13818359375\n",
      "step = 1200, loss = 6066.435546875\n",
      "step = 1300, loss = 5738.021484375\n",
      "step = 1400, loss = 5373.2373046875\n",
      "step = 1500, loss = 4900.6435546875\n",
      "step = 1600, loss = 4774.84375\n",
      "step = 1700, loss = 4454.84375\n",
      "step = 1800, loss = 4028.462646484375\n",
      "step = 1900, loss = 3699.22216796875\n",
      "step = 2000, loss = 3455.9130859375\n",
      "step = 2100, loss = 2922.5048828125\n",
      "step = 2200, loss = 2314.978515625\n",
      "step = 2300, loss = 1827.2293701171875\n",
      "step = 2400, loss = 1675.8970947265625\n",
      "step = 2500, loss = 1355.322998046875\n",
      "step = 2600, loss = 1157.1231689453125\n",
      "step = 2700, loss = 1058.230224609375\n",
      "step = 2800, loss = 999.738037109375\n",
      "step = 2900, loss = 934.9312744140625\n",
      "step = 3000, loss = 885.2557373046875\n",
      "step = 3100, loss = 846.657470703125\n",
      "step = 3200, loss = 816.7127685546875\n",
      "step = 3300, loss = 791.0784912109375\n",
      "step = 3400, loss = 760.0445556640625\n",
      "step = 3500, loss = 733.3084716796875\n",
      "step = 3600, loss = 698.2101440429688\n",
      "step = 3700, loss = 650.2072143554688\n",
      "step = 3800, loss = 559.9261474609375\n",
      "step = 3900, loss = 458.890869140625\n",
      "step = 4000, loss = 437.976318359375\n",
      "step = 4100, loss = 428.6593017578125\n",
      "step = 4200, loss = 422.41058349609375\n",
      "step = 4300, loss = 417.9618225097656\n",
      "step = 4400, loss = 414.36358642578125\n",
      "step = 4500, loss = 411.3780517578125\n",
      "step = 4600, loss = 408.92388916015625\n",
      "step = 4700, loss = 406.7451171875\n",
      "step = 4800, loss = 404.6722106933594\n",
      "step = 4900, loss = 402.6687927246094\n",
      "step = 5000, loss = 400.77239990234375\n",
      "step = 5100, loss = 394.3550720214844\n",
      "step = 5200, loss = 394.1692199707031\n",
      "step = 5300, loss = 393.98541259765625\n",
      "step = 5400, loss = 393.8033752441406\n",
      "step = 5500, loss = 393.622802734375\n",
      "step = 5600, loss = 393.44366455078125\n",
      "step = 5700, loss = 393.2657470703125\n",
      "step = 5800, loss = 393.08892822265625\n",
      "step = 5900, loss = 392.9130859375\n",
      "step = 6000, loss = 392.7380676269531\n",
      "step = 6100, loss = 392.563720703125\n",
      "step = 6200, loss = 392.3898620605469\n",
      "step = 6300, loss = 392.2164001464844\n",
      "step = 6400, loss = 392.04315185546875\n",
      "step = 6500, loss = 391.86993408203125\n",
      "step = 6600, loss = 391.6966552734375\n",
      "step = 6700, loss = 391.5230712890625\n",
      "step = 6800, loss = 391.34912109375\n",
      "step = 6900, loss = 391.1746826171875\n",
      "step = 7000, loss = 390.99957275390625\n",
      "step = 7100, loss = 390.82366943359375\n",
      "step = 7200, loss = 390.646728515625\n",
      "step = 7300, loss = 390.4688720703125\n",
      "step = 7400, loss = 390.2901611328125\n",
      "step = 7500, loss = 390.1106262207031\n",
      "step = 7600, loss = 389.9305419921875\n",
      "step = 7700, loss = 389.750244140625\n",
      "step = 7800, loss = 389.57000732421875\n",
      "step = 7900, loss = 389.3901062011719\n",
      "step = 8000, loss = 389.2109375\n",
      "step = 8100, loss = 389.032958984375\n",
      "step = 8200, loss = 388.85662841796875\n",
      "step = 8300, loss = 388.6825256347656\n",
      "step = 8400, loss = 388.5110778808594\n",
      "step = 8500, loss = 388.3424987792969\n",
      "step = 8600, loss = 388.17681884765625\n",
      "step = 8700, loss = 388.01416015625\n",
      "step = 8800, loss = 387.85418701171875\n",
      "step = 8900, loss = 387.6966552734375\n",
      "step = 9000, loss = 387.5413513183594\n",
      "step = 9100, loss = 387.38800048828125\n",
      "step = 9200, loss = 387.23626708984375\n",
      "step = 9300, loss = 387.0858459472656\n",
      "step = 9400, loss = 386.9365234375\n",
      "step = 9500, loss = 386.7880859375\n",
      "step = 9600, loss = 386.6402587890625\n",
      "step = 9700, loss = 386.49298095703125\n",
      "step = 9800, loss = 386.3460388183594\n",
      "step = 9900, loss = 386.19940185546875\n",
      "train_accuracy=0.8220000267028809\n",
      "test_accuracy=0.6019999980926514\n"
     ]
    }
   ],
   "source": [
    "lossi = train(w1, b1, w2, b2)\n"
   ]
  },
  {
   "cell_type": "code",
   "execution_count": 37,
   "metadata": {},
   "outputs": [
    {
     "data": {
      "text/plain": [
       "[<matplotlib.lines.Line2D at 0x14de4c6a0>]"
      ]
     },
     "execution_count": 37,
     "metadata": {},
     "output_type": "execute_result"
    },
    {
     "data": {
      "image/png": "[encoded data removed]",
      "text/plain": [
       "<Figure size 640x480 with 1 Axes>"
      ]
     },
     "metadata": {},
     "output_type": "display_data"
    }
   ],
   "source": [
    "plt.plot(lossi)"
   ]
  },
  {
   "cell_type": "markdown",
   "metadata": {},
   "source": [
    "### Step 2: Reference implementation using pytorch's .backward()\n",
    "Nothing to do in Step 2, this code is provided for you as a reference"
   ]
  },
  {
   "cell_type": "code",
   "execution_count": 38,
   "metadata": {},
   "outputs": [],
   "source": [
    "w1, b1, w2, b2 = init()\n",
    "parameters = [w1, b1, w2, b2]\n",
    "for p in parameters:\n",
    "    p.requires_grad_(True)"
   ]
  },
  {
   "cell_type": "code",
   "execution_count": 39,
   "metadata": {},
   "outputs": [],
   "source": [
    "# reference code\n",
    "torch.set_printoptions(linewidth=200)\n",
    "import torch.nn as F\n",
    "\n",
    "def train(w1, b1, w2, b2):\n",
    "    lossi = []\n",
    "    for step in range(10000):\n",
    "        xb = train_input\n",
    "        yb = train_target\n",
    "        num_samples = xb.shape[0]\n",
    "        # forward\n",
    "        z1, h1, z2, h2 = forward(w1, b1, w2, b2, xb)\n",
    "        xloss = F.MSELoss()\n",
    "        lsi = xloss(h2, yb) * yb.nelement()\n",
    "        # backward\n",
    "        for p in parameters:\n",
    "            p.grad = None\n",
    "        lsi.backward()\n",
    "        # update\n",
    "        lr = 0.1 / num_samples\n",
    "        for p in parameters:\n",
    "            p.data += -lr * p.grad\n",
    "        if step % 100 == 0: print(f'step = {step}, loss = {lsi}')\n",
    "        lossi.append(lsi.item())\n",
    "    # compute accuracy\n",
    "    _, _, _, preds = forward(w1, b1, w2, b2, train_input)\n",
    "    train_accuracy = compute_accuracy(preds, train_target)\n",
    "    _, _, _, preds = forward(w1, b1, w2, b2, test_input)\n",
    "    test_accuracy = compute_accuracy(preds, test_target)\n",
    "    print(f'{train_accuracy=}')\n",
    "    print(f'{test_accuracy=}')\n",
    "    return lossi"
   ]
  },
  {
   "cell_type": "code",
   "execution_count": 40,
   "metadata": {},
   "outputs": [
    {
     "name": "stdout",
     "output_type": "stream",
     "text": [
      "step = 0, loss = 9828.4453125\n",
      "step = 100, loss = 8500.265625\n",
      "step = 200, loss = 8066.193359375\n",
      "step = 300, loss = 7751.35693359375\n",
      "step = 400, loss = 7523.30859375\n",
      "step = 500, loss = 7368.03076171875\n",
      "step = 600, loss = 7210.2314453125\n",
      "step = 700, loss = 7055.98291015625\n",
      "step = 800, loss = 6895.6259765625\n",
      "step = 900, loss = 6773.4970703125\n",
      "step = 1000, loss = 6647.2919921875\n",
      "step = 1100, loss = 6489.837890625\n",
      "step = 1200, loss = 6298.23828125\n",
      "step = 1300, loss = 5985.755859375\n",
      "step = 1400, loss = 5388.27734375\n",
      "step = 1500, loss = 5225.85546875\n",
      "step = 1600, loss = 5064.68896484375\n",
      "step = 1700, loss = 4855.19970703125\n",
      "step = 1800, loss = 4596.484375\n",
      "step = 1900, loss = 4109.81591796875\n",
      "step = 2000, loss = 3103.76416015625\n",
      "step = 2100, loss = 3023.46875\n",
      "step = 2200, loss = 2930.156005859375\n",
      "step = 2300, loss = 2845.63037109375\n",
      "step = 2400, loss = 2764.825927734375\n",
      "step = 2500, loss = 2680.46240234375\n",
      "step = 2600, loss = 2613.88623046875\n",
      "step = 2700, loss = 2551.559326171875\n",
      "step = 2800, loss = 2495.2001953125\n",
      "step = 2900, loss = 2448.86962890625\n",
      "step = 3000, loss = 2395.5771484375\n",
      "step = 3100, loss = 2333.40185546875\n",
      "step = 3200, loss = 2271.963623046875\n",
      "step = 3300, loss = 2194.3896484375\n",
      "step = 3400, loss = 2079.01123046875\n",
      "step = 3500, loss = 1789.4931640625\n",
      "step = 3600, loss = 1723.77880859375\n",
      "step = 3700, loss = 1670.612548828125\n",
      "step = 3800, loss = 1617.98486328125\n",
      "step = 3900, loss = 1565.4130859375\n",
      "step = 4000, loss = 1500.572998046875\n",
      "step = 4100, loss = 1364.533935546875\n",
      "step = 4200, loss = 1145.5791015625\n",
      "step = 4300, loss = 1091.6087646484375\n",
      "step = 4400, loss = 1068.8375244140625\n",
      "step = 4500, loss = 1047.4659423828125\n",
      "step = 4600, loss = 1031.207763671875\n",
      "step = 4700, loss = 1016.6407470703125\n",
      "step = 4800, loss = 1001.4622802734375\n",
      "step = 4900, loss = 988.6148071289062\n",
      "step = 5000, loss = 980.0311279296875\n",
      "step = 5100, loss = 974.6519775390625\n",
      "step = 5200, loss = 963.9559936523438\n",
      "step = 5300, loss = 953.1630859375\n",
      "step = 5400, loss = 943.265869140625\n",
      "step = 5500, loss = 935.5343627929688\n",
      "step = 5600, loss = 925.113037109375\n",
      "step = 5700, loss = 915.7344970703125\n",
      "step = 5800, loss = 907.2642211914062\n",
      "step = 5900, loss = 896.534912109375\n",
      "step = 6000, loss = 887.1754150390625\n",
      "step = 6100, loss = 875.4779663085938\n",
      "step = 6200, loss = 865.9196166992188\n",
      "step = 6300, loss = 856.8886108398438\n",
      "step = 6400, loss = 844.8353271484375\n",
      "step = 6500, loss = 832.86376953125\n",
      "step = 6600, loss = 815.1552734375\n",
      "step = 6700, loss = 792.227294921875\n",
      "step = 6800, loss = 756.3743286132812\n",
      "step = 6900, loss = 705.3222045898438\n",
      "step = 7000, loss = 534.8544921875\n",
      "step = 7100, loss = 409.6695556640625\n",
      "step = 7200, loss = 408.12127685546875\n",
      "step = 7300, loss = 406.5965576171875\n",
      "step = 7400, loss = 404.93310546875\n",
      "step = 7500, loss = 402.96728515625\n",
      "step = 7600, loss = 400.6812744140625\n",
      "step = 7700, loss = 398.2455749511719\n",
      "step = 7800, loss = 396.1725158691406\n",
      "step = 7900, loss = 394.6581726074219\n",
      "step = 8000, loss = 393.16552734375\n",
      "step = 8100, loss = 391.4474182128906\n",
      "step = 8200, loss = 389.90411376953125\n",
      "step = 8300, loss = 388.3251037597656\n",
      "step = 8400, loss = 386.68780517578125\n",
      "step = 8500, loss = 384.49188232421875\n",
      "step = 8600, loss = 382.9246520996094\n",
      "step = 8700, loss = 382.48541259765625\n",
      "step = 8800, loss = 381.6585693359375\n",
      "step = 8900, loss = 380.8345947265625\n",
      "step = 9000, loss = 380.0887145996094\n",
      "step = 9100, loss = 379.0963134765625\n",
      "step = 9200, loss = 377.6103515625\n",
      "step = 9300, loss = 374.8492431640625\n",
      "step = 9400, loss = 373.6277770996094\n",
      "step = 9500, loss = 372.7530822753906\n",
      "step = 9600, loss = 371.72576904296875\n",
      "step = 9700, loss = 370.8127136230469\n",
      "step = 9800, loss = 370.0155029296875\n",
      "step = 9900, loss = 369.3789367675781\n",
      "train_accuracy=0.8569999933242798\n",
      "test_accuracy=0.5879999995231628\n"
     ]
    }
   ],
   "source": [
    "lossi = train(w1, b1, w2, b2)"
   ]
  },
  {
   "cell_type": "code",
   "execution_count": 41,
   "metadata": {},
   "outputs": [
    {
     "data": {
      "text/plain": [
       "[<matplotlib.lines.Line2D at 0x14ddbada0>]"
      ]
     },
     "execution_count": 41,
     "metadata": {},
     "output_type": "execute_result"
    },
    {
     "data": {
      "image/png": "[encoded data removed]",
      "text/plain": [
       "<Figure size 640x480 with 1 Axes>"
      ]
     },
     "metadata": {},
     "output_type": "display_data"
    }
   ],
   "source": [
    "plt.plot(lossi)"
   ]
  },
  {
   "cell_type": "markdown",
   "metadata": {},
   "source": [
    "### Step 3: Build the same MLP layer but with fully pytorch code (nn.Linear(), etc.)"
   ]
  },
  {
   "cell_type": "code",
   "execution_count": 5,
   "metadata": {},
   "outputs": [],
   "source": [
    "# network dimensions\n",
    "n_in = 784\n",
    "n_hidden = 200\n",
    "n_out = 10"
   ]
  },
  {
   "cell_type": "code",
   "execution_count": 12,
   "metadata": {},
   "outputs": [],
   "source": [
    "X_tr, Y_tr = train_input, train_target\n",
    "X_test, Y_test = test_input, test_target"
   ]
  },
  {
   "cell_type": "code",
   "execution_count": 28,
   "metadata": {},
   "outputs": [],
   "source": [
    "class MLP(nn.Module):\n",
    "\n",
    "    def __init__(self):\n",
    "        super().__init__()\n",
    "        self.layers = nn.ModuleList((\n",
    "            nn.Linear(784, 50),\n",
    "            nn.Tanh(),\n",
    "            nn.Linear(50, 10),\n",
    "            nn.Tanh()\n",
    "        ))\n",
    "\n",
    "    def __call__(self, x):\n",
    "        for layer in self.layers:\n",
    "            x = layer(x)\n",
    "        return x\n",
    "    \n",
    "    def __parameters__(self):\n",
    "        return [p for layer in self.layers for p in layer.parameters]\n",
    "\n",
    "model = MLP()\n",
    "optimizer = torch.optim.AdamW(model.parameters(), lr=1e-3)\n",
    "loss_fn = nn.MSELoss()"
   ]
  },
  {
   "cell_type": "code",
   "execution_count": 29,
   "metadata": {},
   "outputs": [
    {
     "name": "stdout",
     "output_type": "stream",
     "text": [
      "step =      0\tloss=0.13933\taccuracy (train, test): 0.17300\t0.21900\n",
      "step =   1000\tloss=0.00112\taccuracy (train, test): 1.00000\t0.84300\n",
      "step =   2000\tloss=0.00026\taccuracy (train, test): 1.00000\t0.84000\n",
      "step =   3000\tloss=0.00010\taccuracy (train, test): 1.00000\t0.83500\n",
      "step =   4000\tloss=0.00022\taccuracy (train, test): 1.00000\t0.83300\n",
      "step =   5000\tloss=0.00008\taccuracy (train, test): 1.00000\t0.82900\n",
      "step =   6000\tloss=0.00008\taccuracy (train, test): 1.00000\t0.83200\n",
      "step =   7000\tloss=0.00004\taccuracy (train, test): 1.00000\t0.83100\n",
      "step =   8000\tloss=0.00005\taccuracy (train, test): 1.00000\t0.82900\n",
      "step =   9000\tloss=0.00003\taccuracy (train, test): 1.00000\t0.82700\n"
     ]
    }
   ],
   "source": [
    "# training\n",
    "num_epochs = 10000\n",
    "\n",
    "for n in range(num_epochs):\n",
    "    y_pred = model(X_tr)\n",
    "    loss = loss_fn(y_pred, Y_tr)\n",
    "    optimizer.zero_grad()\n",
    "    loss.backward()\n",
    "    optimizer.step()\n",
    "    if n % 1000 == 0: \n",
    "        with torch.no_grad():\n",
    "            # train accuracy\n",
    "            acc_train = compute_accuracy(y_pred, Y_tr)\n",
    "            # test accuracy\n",
    "            y_test_preds = model(X_test)\n",
    "            acc_test = compute_accuracy(y_test_preds, Y_test)\n",
    "            print(f'step = {n:6d}\\tloss={loss.item():.5f}\\taccuracy (train, test): {acc_train:.5f}\\t{acc_test:.5f}')\n",
    "\n",
    "\n"
   ]
  },
  {
   "cell_type": "markdown",
   "metadata": {},
   "source": [
    "##### Exercise: try to improve accuracy!"
   ]
  },
  {
   "cell_type": "code",
   "execution_count": 48,
   "metadata": {},
   "outputs": [],
   "source": [
    "class MLP_with_Dropout(nn.Module):\n",
    "\n",
    "    def __init__(self):\n",
    "        super().__init__()\n",
    "        self.layers = nn.ModuleList((\n",
    "            nn.Linear(784, 50),\n",
    "            nn.Tanh(),\n",
    "            nn.Dropout(p=0.1), \n",
    "            nn.Linear(50, 10),\n",
    "            nn.Tanh()\n",
    "        ))\n",
    "\n",
    "    def __call__(self, x):\n",
    "        for layer in self.layers:\n",
    "            x = layer(x)\n",
    "        return x\n",
    "    \n",
    "    def __parameters__(self):\n",
    "        return [p for layer in self.layers for p in layer.parameters]\n",
    "\n",
    "model_with_dropout = MLP_with_Dropout()\n",
    "model = MLP()\n",
    "optimizer = torch.optim.AdamW(model.parameters(), lr=1e-5)\n",
    "scheduler = torch.optim.lr_scheduler.StepLR(optimizer, step_size=1000, gamma=0.5)\n",
    "loss_fn = nn.MSELoss()"
   ]
  },
  {
   "cell_type": "code",
   "execution_count": 49,
   "metadata": {},
   "outputs": [
    {
     "name": "stdout",
     "output_type": "stream",
     "text": [
      "step =      0\tloss=0.18017\taccuracy (train, test): 0.06800\t0.06000\n",
      "step =   1000\tloss=0.04498\taccuracy (train, test): 0.85400\t0.72300\n",
      "step =   2000\tloss=0.03711\taccuracy (train, test): 0.90200\t0.75700\n",
      "step =   3000\tloss=0.03377\taccuracy (train, test): 0.92800\t0.78200\n",
      "step =   4000\tloss=0.03200\taccuracy (train, test): 0.93000\t0.79300\n",
      "step =   5000\tloss=0.03103\taccuracy (train, test): 0.93600\t0.79900\n",
      "step =   6000\tloss=0.03049\taccuracy (train, test): 0.93700\t0.80000\n",
      "step =   7000\tloss=0.03019\taccuracy (train, test): 0.93700\t0.80200\n",
      "step =   8000\tloss=0.03004\taccuracy (train, test): 0.93700\t0.80400\n",
      "step =   9000\tloss=0.02996\taccuracy (train, test): 0.93800\t0.80400\n"
     ]
    }
   ],
   "source": [
    "# training\n",
    "num_epochs = 10000\n",
    "\n",
    "for n in range(num_epochs):\n",
    "    y_pred = model(X_tr)\n",
    "    loss = loss_fn(y_pred, Y_tr)\n",
    "    optimizer.zero_grad()\n",
    "    loss.backward()\n",
    "    optimizer.step()\n",
    "    scheduler.step()\n",
    "    if n % 1000 == 0: \n",
    "        with torch.no_grad():\n",
    "            # train accuracy\n",
    "            acc_train = compute_accuracy(y_pred, Y_tr)\n",
    "            # test accuracy\n",
    "            y_test_preds = model(X_test)\n",
    "            acc_test = compute_accuracy(y_test_preds, Y_test)\n",
    "            print(f'step = {n:6d}\\tloss={loss.item():.5f}\\taccuracy (train, test): {acc_train:.5f}\\t{acc_test:.5f}')\n"
   ]
  },
  {
   "cell_type": "code",
   "execution_count": null,
   "metadata": {},
   "outputs": [],
   "source": []
  }
 ],
 "metadata": {
  "kernelspec": {
   "display_name": "env",
   "language": "python",
   "name": "python3"
  },
  "language_info": {
   "codemirror_mode": {
    "name": "ipython",
    "version": 3
   },
   "file_extension": ".py",
   "mimetype": "text/x-python",
   "name": "python",
   "nbconvert_exporter": "python",
   "pygments_lexer": "ipython3",
   "version": "3.10.12"
  }
 },
 "nbformat": 4,
 "nbformat_minor": 2
}
